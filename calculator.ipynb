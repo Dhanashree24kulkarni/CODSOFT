{
  "nbformat": 4,
  "nbformat_minor": 0,
  "metadata": {
    "colab": {
      "provenance": [],
      "authorship_tag": "ABX9TyOFTY+33nvwI7L3UmkkvxOj",
      "include_colab_link": true
    },
    "kernelspec": {
      "name": "python3",
      "display_name": "Python 3"
    },
    "language_info": {
      "name": "python"
    }
  },
  "cells": [
    {
      "cell_type": "markdown",
      "metadata": {
        "id": "view-in-github",
        "colab_type": "text"
      },
      "source": [
        "<a href=\"https://colab.research.google.com/github/Dhanashree24kulkarni/CODSOFT/blob/main/calculator.ipynb\" target=\"_parent\"><img src=\"https://colab.research.google.com/assets/colab-badge.svg\" alt=\"Open In Colab\"/></a>"
      ]
    },
    {
      "cell_type": "code",
      "source": [
        "# Calculator program for Google Colab\n",
        "def calculator_colab():\n",
        "    print(\"Welcome to the Calculator Program!\")\n",
        "    print(\"Select the operation you'd like to perform:\")\n",
        "    print(\"1. Addition (+)\")\n",
        "    print(\"2. Subtraction (-)\")\n",
        "    print(\"3. Multiplication (*)\")\n",
        "    print(\"4. Division (/)\")\n",
        "\n",
        "    # Get user input for operation\n",
        "    choice = input(\"Enter the number of your choice (1/2/3/4): \")\n",
        "\n",
        "    if choice not in ('1', '2', '3', '4'):\n",
        "        print(\"Invalid input! Please run the cell again and select a valid operation.\")\n",
        "        return\n",
        "\n",
        "    try:\n",
        "        # Get numbers from the user\n",
        "        num1 = float(input(\"Enter the first number: \"))\n",
        "        num2 = float(input(\"Enter the second number: \"))\n",
        "\n",
        "        # Perform the chosen operation\n",
        "        if choice == '1':\n",
        "            print(f\"The result of {num1} + {num2} is: {num1 + num2}\")\n",
        "        elif choice == '2':\n",
        "            print(f\"The result of {num1} - {num2} is: {num1 - num2}\")\n",
        "        elif choice == '3':\n",
        "            print(f\"The result of {num1} * {num2} is: {num1 * num2}\")\n",
        "        elif choice == '4':\n",
        "            if num2 == 0:\n",
        "                print(\"Error: Division by zero is not allowed.\")\n",
        "            else:\n",
        "                print(f\"The result of {num1} / {num2} is: {num1 / num2}\")\n",
        "\n",
        "    except ValueError:\n",
        "        print(\"Invalid input! Please enter numeric values.\")\n",
        "\n",
        "# Run the calculator program\n",
        "calculator_colab()\n"
      ],
      "metadata": {
        "colab": {
          "base_uri": "https://localhost:8080/"
        },
        "id": "GU31CuTfgUmD",
        "outputId": "f9d0dc7f-dca7-415c-f2fa-d05eb4fe1e1b"
      },
      "execution_count": 3,
      "outputs": [
        {
          "output_type": "stream",
          "name": "stdout",
          "text": [
            "Welcome to the Calculator Program!\n",
            "Select the operation you'd like to perform:\n",
            "1. Addition (+)\n",
            "2. Subtraction (-)\n",
            "3. Multiplication (*)\n",
            "4. Division (/)\n",
            "Enter the number of your choice (1/2/3/4): 1\n",
            "Enter the first number: 4\n",
            "Enter the second number: 6\n",
            "The result of 4.0 + 6.0 is: 10.0\n"
          ]
        }
      ]
    }
  ]
}