{
  "nbformat": 4,
  "nbformat_minor": 0,
  "metadata": {
    "colab": {
      "provenance": [],
      "authorship_tag": "ABX9TyP81wvHVHMvDWRxAr8eAfcY",
      "include_colab_link": true
    },
    "kernelspec": {
      "name": "python3",
      "display_name": "Python 3"
    },
    "language_info": {
      "name": "python"
    }
  },
  "cells": [
    {
      "cell_type": "markdown",
      "metadata": {
        "id": "view-in-github",
        "colab_type": "text"
      },
      "source": [
        "<a href=\"https://colab.research.google.com/github/Dhanashree24kulkarni/CODSOFT/blob/main/rock%2Cpaper%2Cscissor.ipynb\" target=\"_parent\"><img src=\"https://colab.research.google.com/assets/colab-badge.svg\" alt=\"Open In Colab\"/></a>"
      ]
    },
    {
      "cell_type": "code",
      "execution_count": 1,
      "metadata": {
        "colab": {
          "base_uri": "https://localhost:8080/"
        },
        "id": "NDUN-M4aoJNw",
        "outputId": "54b3a4c0-b93f-4207-8b03-872428fc862b"
      },
      "outputs": [
        {
          "output_type": "stream",
          "name": "stdout",
          "text": [
            "Welcome to Rock, Paper, Scissors!\n",
            "\n",
            "Choose your option:\n",
            "1. Rock\n",
            "2. Paper\n",
            "3. Scissors\n",
            "Enter your choice (1/2/3): 1\n",
            "You chose: Rock\n",
            "Computer chose: Scissors\n",
            "You win!\n",
            "\n",
            "Do you want to play again? (yes/no): 3\n",
            "Thanks for playing! Goodbye!\n"
          ]
        }
      ],
      "source": [
        "import random\n",
        "\n",
        "def get_user_choice():\n",
        "    print(\"\\nChoose your option:\")\n",
        "    print(\"1. Rock\")\n",
        "    print(\"2. Paper\")\n",
        "    print(\"3. Scissors\")\n",
        "\n",
        "    while True:\n",
        "        try:\n",
        "            choice = int(input(\"Enter your choice (1/2/3): \"))\n",
        "            if choice in [1, 2, 3]:\n",
        "                return choice\n",
        "            else:\n",
        "                print(\"Invalid input! Please enter 1, 2, or 3.\")\n",
        "        except ValueError:\n",
        "            print(\"Invalid input! Please enter a number.\")\n",
        "\n",
        "def get_computer_choice():\n",
        "    return random.randint(1, 3)\n",
        "\n",
        "def determine_winner(user_choice, computer_choice):\n",
        "    choices = [\"Rock\", \"Paper\", \"Scissors\"]\n",
        "    print(f\"You chose: {choices[user_choice - 1]}\")\n",
        "    print(f\"Computer chose: {choices[computer_choice - 1]}\")\n",
        "\n",
        "    if user_choice == computer_choice:\n",
        "        return \"It's a tie!\"\n",
        "\n",
        "    # Define winning combinations (user_choice, computer_choice)\n",
        "    winning_combinations = [(1, 3), (2, 1), (3, 2)]\n",
        "    if (user_choice, computer_choice) in winning_combinations:\n",
        "        return \"You win!\"\n",
        "    else:\n",
        "        return \"Computer wins!\"\n",
        "\n",
        "def main():\n",
        "    print(\"Welcome to Rock, Paper, Scissors!\")\n",
        "    while True:\n",
        "        user_choice = get_user_choice()\n",
        "        computer_choice = get_computer_choice()\n",
        "        result = determine_winner(user_choice, computer_choice)\n",
        "        print(result)\n",
        "\n",
        "        play_again = input(\"\\nDo you want to play again? (yes/no): \").strip().lower()\n",
        "        if play_again != \"yes\":\n",
        "            print(\"Thanks for playing! Goodbye!\")\n",
        "            break\n",
        "\n",
        "if __name__ == \"__main__\":\n",
        "    main()\n"
      ]
    }
  ]
}